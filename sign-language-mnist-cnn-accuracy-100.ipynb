{
 "cells": [
  {
   "cell_type": "markdown",
   "id": "fe8f162b",
   "metadata": {
    "papermill": {
     "duration": 0.013451,
     "end_time": "2022-09-11T15:49:27.108586",
     "exception": false,
     "start_time": "2022-09-11T15:49:27.095135",
     "status": "completed"
    },
    "tags": []
   },
   "source": [
    "# Sign Language Alphabet Detection and Classification\n",
    "\n",
    "### Jarred Priester\n",
    "### 9/11/22"
   ]
  },
  {
   "cell_type": "markdown",
   "id": "1d293ce1",
   "metadata": {
    "papermill": {
     "duration": 0.011132,
     "end_time": "2022-09-11T15:49:27.131706",
     "exception": false,
     "start_time": "2022-09-11T15:49:27.120574",
     "status": "completed"
    },
    "tags": []
   },
   "source": [
    "1. Introduction\n",
    "    - 1.1 Overview\n",
    "    - 1.2 About the Data\n",
    "    - 1.3 Purpose of this Project\n",
    "2. Downloading the Data\n",
    "    - 2.1 Downloading the Libraries\n",
    "    - 2.2 Downloading the Training Images\n",
    "    - 2.3 Downloading the Test Images\n",
    "    - 2.4 Checking for Missing Data\n",
    "3. Processing the Images\n",
    "    - 3.1 Creating our X and our Y\n",
    "    - 3.2 Scaling Our Images\n",
    "    - 3.3 Reshaping Our Images\n",
    "    - 3.4 Distribution of Labels\n",
    "4. Viewing the Images\n",
    "    - 4.1 Training Images\n",
    "    - 4.2 Test Images\n",
    "5. CNN Model\n",
    "    - 5.1 Spliting Our Training Data\n",
    "    - 5.2 Creating Our Model\n",
    "    - 5.3 Training Our Model\n",
    "6. Results\n",
    "    - 6.1 Classification Report\n",
    "    - 6.2 Brief Thoughts on Results\n",
    "7. Conclusion\n",
    "    - 7.1 Recap\n",
    "    - 7.2 Future Work"
   ]
  },
  {
   "cell_type": "markdown",
   "id": "2455cbbf",
   "metadata": {
    "papermill": {
     "duration": 0.010994,
     "end_time": "2022-09-11T15:49:27.154178",
     "exception": false,
     "start_time": "2022-09-11T15:49:27.143184",
     "status": "completed"
    },
    "tags": []
   },
   "source": [
    "# 1. Introduction"
   ]
  },
  {
   "cell_type": "markdown",
   "id": "07d566d9",
   "metadata": {
    "papermill": {
     "duration": 0.011013,
     "end_time": "2022-09-11T15:49:27.178645",
     "exception": false,
     "start_time": "2022-09-11T15:49:27.167632",
     "status": "completed"
    },
    "tags": []
   },
   "source": [
    "### 1.1 Overview"
   ]
  },
  {
   "cell_type": "markdown",
   "id": "9f38d3f6",
   "metadata": {
    "papermill": {
     "duration": 0.010993,
     "end_time": "2022-09-11T15:49:27.201095",
     "exception": false,
     "start_time": "2022-09-11T15:49:27.190102",
     "status": "completed"
    },
    "tags": []
   },
   "source": [
    "Artifical Intelligence is a tool that has the potential to make our lives easier and, in some cases, remove obstacles. For example, artifical intelligence could be used to take video feeds of people using sign language and translating the signs into words. This could help remove communication obstacles with sign lanuage users with their coworkers and personal relationships.\n",
    "\n",
    "Such an application would consist of computer vision and natural language processing, but the first step would be to accurately detect and classify sign language signs using computer vision.\n",
    "\n",
    "In this notebook we will be applying a convolutional neural network to classify a dataset of American Sign Language alphabet images. "
   ]
  },
  {
   "cell_type": "markdown",
   "id": "0eb944f2",
   "metadata": {
    "papermill": {
     "duration": 0.011146,
     "end_time": "2022-09-11T15:49:27.223708",
     "exception": false,
     "start_time": "2022-09-11T15:49:27.212562",
     "status": "completed"
    },
    "tags": []
   },
   "source": [
    "### 1.2 About the Data"
   ]
  },
  {
   "cell_type": "markdown",
   "id": "da9f0cd2",
   "metadata": {
    "papermill": {
     "duration": 0.011502,
     "end_time": "2022-09-11T15:49:27.247287",
     "exception": false,
     "start_time": "2022-09-11T15:49:27.235785",
     "status": "completed"
    },
    "tags": []
   },
   "source": [
    "The dataset consist of 27,455 training images and 7,172 test images. Each image is grayscaled and has a 28 x 28 pixel structure. Each images includes the label of which letter in the alphabet the image represents. There are 24 letters in this dataset, 'j' and 'z' are not included because they both involve motion."
   ]
  },
  {
   "cell_type": "markdown",
   "id": "40e10698",
   "metadata": {
    "papermill": {
     "duration": 0.011926,
     "end_time": "2022-09-11T15:49:27.271408",
     "exception": false,
     "start_time": "2022-09-11T15:49:27.259482",
     "status": "completed"
    },
    "tags": []
   },
   "source": [
    "### 1.3 Purpose of this Project"
   ]
  },
  {
   "cell_type": "markdown",
   "id": "25a3b06c",
   "metadata": {
    "papermill": {
     "duration": 0.011231,
     "end_time": "2022-09-11T15:49:27.294345",
     "exception": false,
     "start_time": "2022-09-11T15:49:27.283114",
     "status": "completed"
    },
    "tags": []
   },
   "source": [
    "Our task will be to create a CNN model that can accuractly predict the alphabet letter for each image. I am setting out to achive an accuracy of at least 98%."
   ]
  },
  {
   "cell_type": "markdown",
   "id": "e6a7b485",
   "metadata": {
    "papermill": {
     "duration": 0.011204,
     "end_time": "2022-09-11T15:49:27.317178",
     "exception": false,
     "start_time": "2022-09-11T15:49:27.305974",
     "status": "completed"
    },
    "tags": []
   },
   "source": [
    "# 2. Downloading the Data"
   ]
  },
  {
   "cell_type": "code",
   "execution_count": 32,
   "id": "b78550a8",
   "metadata": {
    "execution": {
     "iopub.execute_input": "2022-09-11T15:49:27.367000Z",
     "iopub.status.busy": "2022-09-11T15:49:27.366460Z",
     "iopub.status.idle": "2022-09-11T15:49:36.677223Z",
     "shell.execute_reply": "2022-09-11T15:49:36.675841Z"
    },
    "papermill": {
     "duration": 9.327762,
     "end_time": "2022-09-11T15:49:36.680226",
     "exception": false,
     "start_time": "2022-09-11T15:49:27.352464",
     "status": "completed"
    },
    "tags": []
   },
   "outputs": [],
   "source": [
    "#importing libraries\n",
    "import numpy as np \n",
    "import pandas as pd\n",
    "import random as rd\n",
    "\n",
    "#data visualization\n",
    "import matplotlib.pyplot as plt\n",
    "%matplotlib inline\n",
    "import seaborn as sns\n",
    "import plotly.express as px\n",
    "from PIL import Image\n",
    "\n",
    "#for the CNN model\n",
    "from sklearn.model_selection import train_test_split\n",
    "from sklearn.metrics import confusion_matrix\n",
    "from sklearn.metrics import classification_report\n",
    "import tensorflow as tf\n",
    "from tensorflow import keras\n",
    "from tensorflow.keras import layers\n",
    "from tensorflow.keras.layers.experimental import preprocessing\n",
    "from keras.preprocessing.image import ImageDataGenerator\n",
    "\n",
    "#setting seed for reproducability\n",
    "from numpy.random import seed\n",
    "seed(10)\n",
    "tf.random.set_seed(20)"
   ]
  },
  {
   "cell_type": "markdown",
   "id": "c89d5aaf",
   "metadata": {
    "papermill": {
     "duration": 0.012222,
     "end_time": "2022-09-11T15:49:36.704472",
     "exception": false,
     "start_time": "2022-09-11T15:49:36.692250",
     "status": "completed"
    },
    "tags": []
   },
   "source": [
    "### 2.2 Downloading the Training Images"
   ]
  },
  {
   "cell_type": "code",
   "execution_count": 33,
   "id": "2f6a23c2",
   "metadata": {
    "execution": {
     "iopub.execute_input": "2022-09-11T15:49:36.733136Z",
     "iopub.status.busy": "2022-09-11T15:49:36.731519Z",
     "iopub.status.idle": "2022-09-11T15:49:40.422731Z",
     "shell.execute_reply": "2022-09-11T15:49:40.421820Z"
    },
    "papermill": {
     "duration": 3.709006,
     "end_time": "2022-09-11T15:49:40.426237",
     "exception": false,
     "start_time": "2022-09-11T15:49:36.717231",
     "status": "completed"
    },
    "tags": []
   },
   "outputs": [
    {
     "data": {
      "text/html": [
       "<div>\n",
       "<style scoped>\n",
       "    .dataframe tbody tr th:only-of-type {\n",
       "        vertical-align: middle;\n",
       "    }\n",
       "\n",
       "    .dataframe tbody tr th {\n",
       "        vertical-align: top;\n",
       "    }\n",
       "\n",
       "    .dataframe thead th {\n",
       "        text-align: right;\n",
       "    }\n",
       "</style>\n",
       "<table border=\"1\" class=\"dataframe\">\n",
       "  <thead>\n",
       "    <tr style=\"text-align: right;\">\n",
       "      <th></th>\n",
       "      <th>label</th>\n",
       "      <th>pixel1</th>\n",
       "      <th>pixel2</th>\n",
       "      <th>pixel3</th>\n",
       "      <th>pixel4</th>\n",
       "      <th>pixel5</th>\n",
       "      <th>pixel6</th>\n",
       "      <th>pixel7</th>\n",
       "      <th>pixel8</th>\n",
       "      <th>pixel9</th>\n",
       "      <th>...</th>\n",
       "      <th>pixel775</th>\n",
       "      <th>pixel776</th>\n",
       "      <th>pixel777</th>\n",
       "      <th>pixel778</th>\n",
       "      <th>pixel779</th>\n",
       "      <th>pixel780</th>\n",
       "      <th>pixel781</th>\n",
       "      <th>pixel782</th>\n",
       "      <th>pixel783</th>\n",
       "      <th>pixel784</th>\n",
       "    </tr>\n",
       "  </thead>\n",
       "  <tbody>\n",
       "    <tr>\n",
       "      <th>0</th>\n",
       "      <td>3</td>\n",
       "      <td>107</td>\n",
       "      <td>118</td>\n",
       "      <td>127</td>\n",
       "      <td>134</td>\n",
       "      <td>139</td>\n",
       "      <td>143</td>\n",
       "      <td>146</td>\n",
       "      <td>150</td>\n",
       "      <td>153</td>\n",
       "      <td>...</td>\n",
       "      <td>207</td>\n",
       "      <td>207</td>\n",
       "      <td>207</td>\n",
       "      <td>207</td>\n",
       "      <td>206</td>\n",
       "      <td>206</td>\n",
       "      <td>206</td>\n",
       "      <td>204</td>\n",
       "      <td>203</td>\n",
       "      <td>202</td>\n",
       "    </tr>\n",
       "    <tr>\n",
       "      <th>1</th>\n",
       "      <td>6</td>\n",
       "      <td>155</td>\n",
       "      <td>157</td>\n",
       "      <td>156</td>\n",
       "      <td>156</td>\n",
       "      <td>156</td>\n",
       "      <td>157</td>\n",
       "      <td>156</td>\n",
       "      <td>158</td>\n",
       "      <td>158</td>\n",
       "      <td>...</td>\n",
       "      <td>69</td>\n",
       "      <td>149</td>\n",
       "      <td>128</td>\n",
       "      <td>87</td>\n",
       "      <td>94</td>\n",
       "      <td>163</td>\n",
       "      <td>175</td>\n",
       "      <td>103</td>\n",
       "      <td>135</td>\n",
       "      <td>149</td>\n",
       "    </tr>\n",
       "    <tr>\n",
       "      <th>2</th>\n",
       "      <td>2</td>\n",
       "      <td>187</td>\n",
       "      <td>188</td>\n",
       "      <td>188</td>\n",
       "      <td>187</td>\n",
       "      <td>187</td>\n",
       "      <td>186</td>\n",
       "      <td>187</td>\n",
       "      <td>188</td>\n",
       "      <td>187</td>\n",
       "      <td>...</td>\n",
       "      <td>202</td>\n",
       "      <td>201</td>\n",
       "      <td>200</td>\n",
       "      <td>199</td>\n",
       "      <td>198</td>\n",
       "      <td>199</td>\n",
       "      <td>198</td>\n",
       "      <td>195</td>\n",
       "      <td>194</td>\n",
       "      <td>195</td>\n",
       "    </tr>\n",
       "    <tr>\n",
       "      <th>3</th>\n",
       "      <td>2</td>\n",
       "      <td>211</td>\n",
       "      <td>211</td>\n",
       "      <td>212</td>\n",
       "      <td>212</td>\n",
       "      <td>211</td>\n",
       "      <td>210</td>\n",
       "      <td>211</td>\n",
       "      <td>210</td>\n",
       "      <td>210</td>\n",
       "      <td>...</td>\n",
       "      <td>235</td>\n",
       "      <td>234</td>\n",
       "      <td>233</td>\n",
       "      <td>231</td>\n",
       "      <td>230</td>\n",
       "      <td>226</td>\n",
       "      <td>225</td>\n",
       "      <td>222</td>\n",
       "      <td>229</td>\n",
       "      <td>163</td>\n",
       "    </tr>\n",
       "    <tr>\n",
       "      <th>4</th>\n",
       "      <td>13</td>\n",
       "      <td>164</td>\n",
       "      <td>167</td>\n",
       "      <td>170</td>\n",
       "      <td>172</td>\n",
       "      <td>176</td>\n",
       "      <td>179</td>\n",
       "      <td>180</td>\n",
       "      <td>184</td>\n",
       "      <td>185</td>\n",
       "      <td>...</td>\n",
       "      <td>92</td>\n",
       "      <td>105</td>\n",
       "      <td>105</td>\n",
       "      <td>108</td>\n",
       "      <td>133</td>\n",
       "      <td>163</td>\n",
       "      <td>157</td>\n",
       "      <td>163</td>\n",
       "      <td>164</td>\n",
       "      <td>179</td>\n",
       "    </tr>\n",
       "  </tbody>\n",
       "</table>\n",
       "<p>5 rows × 785 columns</p>\n",
       "</div>"
      ],
      "text/plain": [
       "   label  pixel1  pixel2  pixel3  pixel4  pixel5  pixel6  pixel7  pixel8  \\\n",
       "0      3     107     118     127     134     139     143     146     150   \n",
       "1      6     155     157     156     156     156     157     156     158   \n",
       "2      2     187     188     188     187     187     186     187     188   \n",
       "3      2     211     211     212     212     211     210     211     210   \n",
       "4     13     164     167     170     172     176     179     180     184   \n",
       "\n",
       "   pixel9  ...  pixel775  pixel776  pixel777  pixel778  pixel779  pixel780  \\\n",
       "0     153  ...       207       207       207       207       206       206   \n",
       "1     158  ...        69       149       128        87        94       163   \n",
       "2     187  ...       202       201       200       199       198       199   \n",
       "3     210  ...       235       234       233       231       230       226   \n",
       "4     185  ...        92       105       105       108       133       163   \n",
       "\n",
       "   pixel781  pixel782  pixel783  pixel784  \n",
       "0       206       204       203       202  \n",
       "1       175       103       135       149  \n",
       "2       198       195       194       195  \n",
       "3       225       222       229       163  \n",
       "4       157       163       164       179  \n",
       "\n",
       "[5 rows x 785 columns]"
      ]
     },
     "execution_count": 33,
     "metadata": {},
     "output_type": "execute_result"
    }
   ],
   "source": [
    "#downloading the training data\n",
    "train = pd.read_csv(\"D:\\Developer\\SignLanguageComputerVision\\dataset\\sign_mnist_train.csv\")\n",
    "train.head()"
   ]
  },
  {
   "cell_type": "markdown",
   "id": "a55088da",
   "metadata": {
    "papermill": {
     "duration": 0.01174,
     "end_time": "2022-09-11T15:49:40.456095",
     "exception": false,
     "start_time": "2022-09-11T15:49:40.444355",
     "status": "completed"
    },
    "tags": []
   },
   "source": [
    "### 2.3 Downloading the Test Images"
   ]
  },
  {
   "cell_type": "code",
   "execution_count": 34,
   "id": "cdb45a54",
   "metadata": {
    "execution": {
     "iopub.execute_input": "2022-09-11T15:49:40.481406Z",
     "iopub.status.busy": "2022-09-11T15:49:40.480971Z",
     "iopub.status.idle": "2022-09-11T15:49:41.447510Z",
     "shell.execute_reply": "2022-09-11T15:49:41.445918Z"
    },
    "papermill": {
     "duration": 0.982546,
     "end_time": "2022-09-11T15:49:41.450629",
     "exception": false,
     "start_time": "2022-09-11T15:49:40.468083",
     "status": "completed"
    },
    "tags": []
   },
   "outputs": [
    {
     "data": {
      "text/html": [
       "<div>\n",
       "<style scoped>\n",
       "    .dataframe tbody tr th:only-of-type {\n",
       "        vertical-align: middle;\n",
       "    }\n",
       "\n",
       "    .dataframe tbody tr th {\n",
       "        vertical-align: top;\n",
       "    }\n",
       "\n",
       "    .dataframe thead th {\n",
       "        text-align: right;\n",
       "    }\n",
       "</style>\n",
       "<table border=\"1\" class=\"dataframe\">\n",
       "  <thead>\n",
       "    <tr style=\"text-align: right;\">\n",
       "      <th></th>\n",
       "      <th>label</th>\n",
       "      <th>pixel1</th>\n",
       "      <th>pixel2</th>\n",
       "      <th>pixel3</th>\n",
       "      <th>pixel4</th>\n",
       "      <th>pixel5</th>\n",
       "      <th>pixel6</th>\n",
       "      <th>pixel7</th>\n",
       "      <th>pixel8</th>\n",
       "      <th>pixel9</th>\n",
       "      <th>...</th>\n",
       "      <th>pixel775</th>\n",
       "      <th>pixel776</th>\n",
       "      <th>pixel777</th>\n",
       "      <th>pixel778</th>\n",
       "      <th>pixel779</th>\n",
       "      <th>pixel780</th>\n",
       "      <th>pixel781</th>\n",
       "      <th>pixel782</th>\n",
       "      <th>pixel783</th>\n",
       "      <th>pixel784</th>\n",
       "    </tr>\n",
       "  </thead>\n",
       "  <tbody>\n",
       "    <tr>\n",
       "      <th>0</th>\n",
       "      <td>6</td>\n",
       "      <td>149</td>\n",
       "      <td>149</td>\n",
       "      <td>150</td>\n",
       "      <td>150</td>\n",
       "      <td>150</td>\n",
       "      <td>151</td>\n",
       "      <td>151</td>\n",
       "      <td>150</td>\n",
       "      <td>151</td>\n",
       "      <td>...</td>\n",
       "      <td>138</td>\n",
       "      <td>148</td>\n",
       "      <td>127</td>\n",
       "      <td>89</td>\n",
       "      <td>82</td>\n",
       "      <td>96</td>\n",
       "      <td>106</td>\n",
       "      <td>112</td>\n",
       "      <td>120</td>\n",
       "      <td>107</td>\n",
       "    </tr>\n",
       "    <tr>\n",
       "      <th>1</th>\n",
       "      <td>5</td>\n",
       "      <td>126</td>\n",
       "      <td>128</td>\n",
       "      <td>131</td>\n",
       "      <td>132</td>\n",
       "      <td>133</td>\n",
       "      <td>134</td>\n",
       "      <td>135</td>\n",
       "      <td>135</td>\n",
       "      <td>136</td>\n",
       "      <td>...</td>\n",
       "      <td>47</td>\n",
       "      <td>104</td>\n",
       "      <td>194</td>\n",
       "      <td>183</td>\n",
       "      <td>186</td>\n",
       "      <td>184</td>\n",
       "      <td>184</td>\n",
       "      <td>184</td>\n",
       "      <td>182</td>\n",
       "      <td>180</td>\n",
       "    </tr>\n",
       "    <tr>\n",
       "      <th>2</th>\n",
       "      <td>10</td>\n",
       "      <td>85</td>\n",
       "      <td>88</td>\n",
       "      <td>92</td>\n",
       "      <td>96</td>\n",
       "      <td>105</td>\n",
       "      <td>123</td>\n",
       "      <td>135</td>\n",
       "      <td>143</td>\n",
       "      <td>147</td>\n",
       "      <td>...</td>\n",
       "      <td>68</td>\n",
       "      <td>166</td>\n",
       "      <td>242</td>\n",
       "      <td>227</td>\n",
       "      <td>230</td>\n",
       "      <td>227</td>\n",
       "      <td>226</td>\n",
       "      <td>225</td>\n",
       "      <td>224</td>\n",
       "      <td>222</td>\n",
       "    </tr>\n",
       "    <tr>\n",
       "      <th>3</th>\n",
       "      <td>0</td>\n",
       "      <td>203</td>\n",
       "      <td>205</td>\n",
       "      <td>207</td>\n",
       "      <td>206</td>\n",
       "      <td>207</td>\n",
       "      <td>209</td>\n",
       "      <td>210</td>\n",
       "      <td>209</td>\n",
       "      <td>210</td>\n",
       "      <td>...</td>\n",
       "      <td>154</td>\n",
       "      <td>248</td>\n",
       "      <td>247</td>\n",
       "      <td>248</td>\n",
       "      <td>253</td>\n",
       "      <td>236</td>\n",
       "      <td>230</td>\n",
       "      <td>240</td>\n",
       "      <td>253</td>\n",
       "      <td>255</td>\n",
       "    </tr>\n",
       "    <tr>\n",
       "      <th>4</th>\n",
       "      <td>3</td>\n",
       "      <td>188</td>\n",
       "      <td>191</td>\n",
       "      <td>193</td>\n",
       "      <td>195</td>\n",
       "      <td>199</td>\n",
       "      <td>201</td>\n",
       "      <td>202</td>\n",
       "      <td>203</td>\n",
       "      <td>203</td>\n",
       "      <td>...</td>\n",
       "      <td>26</td>\n",
       "      <td>40</td>\n",
       "      <td>64</td>\n",
       "      <td>48</td>\n",
       "      <td>29</td>\n",
       "      <td>46</td>\n",
       "      <td>49</td>\n",
       "      <td>46</td>\n",
       "      <td>46</td>\n",
       "      <td>53</td>\n",
       "    </tr>\n",
       "  </tbody>\n",
       "</table>\n",
       "<p>5 rows × 785 columns</p>\n",
       "</div>"
      ],
      "text/plain": [
       "   label  pixel1  pixel2  pixel3  pixel4  pixel5  pixel6  pixel7  pixel8  \\\n",
       "0      6     149     149     150     150     150     151     151     150   \n",
       "1      5     126     128     131     132     133     134     135     135   \n",
       "2     10      85      88      92      96     105     123     135     143   \n",
       "3      0     203     205     207     206     207     209     210     209   \n",
       "4      3     188     191     193     195     199     201     202     203   \n",
       "\n",
       "   pixel9  ...  pixel775  pixel776  pixel777  pixel778  pixel779  pixel780  \\\n",
       "0     151  ...       138       148       127        89        82        96   \n",
       "1     136  ...        47       104       194       183       186       184   \n",
       "2     147  ...        68       166       242       227       230       227   \n",
       "3     210  ...       154       248       247       248       253       236   \n",
       "4     203  ...        26        40        64        48        29        46   \n",
       "\n",
       "   pixel781  pixel782  pixel783  pixel784  \n",
       "0       106       112       120       107  \n",
       "1       184       184       182       180  \n",
       "2       226       225       224       222  \n",
       "3       230       240       253       255  \n",
       "4        49        46        46        53  \n",
       "\n",
       "[5 rows x 785 columns]"
      ]
     },
     "execution_count": 34,
     "metadata": {},
     "output_type": "execute_result"
    }
   ],
   "source": [
    "#downloading the test data\n",
    "test = pd.read_csv(\"D:\\Developer\\SignLanguageComputerVision\\dataset\\sign_mnist_test.csv\")\n",
    "test.head()"
   ]
  },
  {
   "cell_type": "markdown",
   "id": "38f65432",
   "metadata": {
    "papermill": {
     "duration": 0.011627,
     "end_time": "2022-09-11T15:49:41.474490",
     "exception": false,
     "start_time": "2022-09-11T15:49:41.462863",
     "status": "completed"
    },
    "tags": []
   },
   "source": [
    "### 2.4 Checking for Missing Data"
   ]
  },
  {
   "cell_type": "code",
   "execution_count": 35,
   "id": "7848e44b",
   "metadata": {
    "execution": {
     "iopub.execute_input": "2022-09-11T15:49:41.500330Z",
     "iopub.status.busy": "2022-09-11T15:49:41.499876Z",
     "iopub.status.idle": "2022-09-11T15:49:41.548216Z",
     "shell.execute_reply": "2022-09-11T15:49:41.546396Z"
    },
    "papermill": {
     "duration": 0.064817,
     "end_time": "2022-09-11T15:49:41.551336",
     "exception": false,
     "start_time": "2022-09-11T15:49:41.486519",
     "status": "completed"
    },
    "tags": []
   },
   "outputs": [
    {
     "name": "stdout",
     "output_type": "stream",
     "text": [
      "0\n",
      "0\n"
     ]
    }
   ],
   "source": [
    "#summing the number of na in the training set for each column\n",
    "print(sum(train.isna().sum()))\n",
    "\n",
    "#summing the number of na in the test set for each column\n",
    "print(sum(test.isna().sum()))"
   ]
  },
  {
   "cell_type": "code",
   "execution_count": 36,
   "id": "8a9c685d",
   "metadata": {
    "execution": {
     "iopub.execute_input": "2022-09-11T15:49:41.578466Z",
     "iopub.status.busy": "2022-09-11T15:49:41.577045Z",
     "iopub.status.idle": "2022-09-11T15:49:41.630858Z",
     "shell.execute_reply": "2022-09-11T15:49:41.629467Z"
    },
    "papermill": {
     "duration": 0.071078,
     "end_time": "2022-09-11T15:49:41.634493",
     "exception": false,
     "start_time": "2022-09-11T15:49:41.563415",
     "status": "completed"
    },
    "tags": []
   },
   "outputs": [
    {
     "name": "stdout",
     "output_type": "stream",
     "text": [
      "0\n",
      "0\n"
     ]
    }
   ],
   "source": [
    "#summing the number of null values in the training set for each column\n",
    "print(sum(train.isnull().sum()))\n",
    "\n",
    "#summing the number of null values in the test set for each column\n",
    "print(sum(test.isnull().sum()))"
   ]
  },
  {
   "cell_type": "markdown",
   "id": "e2e6c601",
   "metadata": {
    "papermill": {
     "duration": 0.012298,
     "end_time": "2022-09-11T15:49:41.659658",
     "exception": false,
     "start_time": "2022-09-11T15:49:41.647360",
     "status": "completed"
    },
    "tags": []
   },
   "source": [
    "# 3. Processing the Images"
   ]
  },
  {
   "cell_type": "markdown",
   "id": "43ff7589",
   "metadata": {
    "papermill": {
     "duration": 0.012116,
     "end_time": "2022-09-11T15:49:41.684562",
     "exception": false,
     "start_time": "2022-09-11T15:49:41.672446",
     "status": "completed"
    },
    "tags": []
   },
   "source": [
    "### 3.1 Creating our X and our Y"
   ]
  },
  {
   "cell_type": "markdown",
   "id": "c08d5822",
   "metadata": {
    "papermill": {
     "duration": 0.013626,
     "end_time": "2022-09-11T15:49:41.711293",
     "exception": false,
     "start_time": "2022-09-11T15:49:41.697667",
     "status": "completed"
    },
    "tags": []
   },
   "source": [
    "The first column in the dataset is the labels. We will first separate the label and pixel data."
   ]
  },
  {
   "cell_type": "code",
   "execution_count": 37,
   "id": "5053f09b",
   "metadata": {
    "execution": {
     "iopub.execute_input": "2022-09-11T15:49:41.740430Z",
     "iopub.status.busy": "2022-09-11T15:49:41.739841Z",
     "iopub.status.idle": "2022-09-11T15:49:41.856612Z",
     "shell.execute_reply": "2022-09-11T15:49:41.854993Z"
    },
    "papermill": {
     "duration": 0.13526,
     "end_time": "2022-09-11T15:49:41.859688",
     "exception": false,
     "start_time": "2022-09-11T15:49:41.724428",
     "status": "completed"
    },
    "tags": []
   },
   "outputs": [],
   "source": [
    "#creating our Y for the training data\n",
    "Y_train = train[\"label\"]\n",
    "\n",
    "#creating our X for the training data\n",
    "X_train = train.drop(labels = [\"label\"],axis = 1) "
   ]
  },
  {
   "cell_type": "markdown",
   "id": "79cc1b34",
   "metadata": {
    "papermill": {
     "duration": 0.012014,
     "end_time": "2022-09-11T15:49:41.884130",
     "exception": false,
     "start_time": "2022-09-11T15:49:41.872116",
     "status": "completed"
    },
    "tags": []
   },
   "source": [
    "Now we will do the same for the test data."
   ]
  },
  {
   "cell_type": "code",
   "execution_count": 38,
   "id": "2fe53d52",
   "metadata": {
    "execution": {
     "iopub.execute_input": "2022-09-11T15:49:41.911112Z",
     "iopub.status.busy": "2022-09-11T15:49:41.910584Z",
     "iopub.status.idle": "2022-09-11T15:49:41.945286Z",
     "shell.execute_reply": "2022-09-11T15:49:41.943571Z"
    },
    "papermill": {
     "duration": 0.051946,
     "end_time": "2022-09-11T15:49:41.948380",
     "exception": false,
     "start_time": "2022-09-11T15:49:41.896434",
     "status": "completed"
    },
    "tags": []
   },
   "outputs": [],
   "source": [
    "#creating our Y for the test data\n",
    "Y_test = test[\"label\"]\n",
    "\n",
    "#creating our X for the training data\n",
    "X_test = test.drop(labels = [\"label\"],axis = 1) "
   ]
  },
  {
   "cell_type": "markdown",
   "id": "8aee134b",
   "metadata": {
    "papermill": {
     "duration": 0.011775,
     "end_time": "2022-09-11T15:49:41.972493",
     "exception": false,
     "start_time": "2022-09-11T15:49:41.960718",
     "status": "completed"
    },
    "tags": []
   },
   "source": [
    "### 3.2 Scaling Our Images"
   ]
  },
  {
   "cell_type": "markdown",
   "id": "6c7bf6b3",
   "metadata": {
    "papermill": {
     "duration": 0.011709,
     "end_time": "2022-09-11T15:49:41.996278",
     "exception": false,
     "start_time": "2022-09-11T15:49:41.984569",
     "status": "completed"
    },
    "tags": []
   },
   "source": [
    "Next, we need to scale the data from 0-255 to 0-1. This will make things easier to work with the neural network because it will allow the nn to converge faster."
   ]
  },
  {
   "cell_type": "code",
   "execution_count": 39,
   "id": "ec3aed9e",
   "metadata": {
    "execution": {
     "iopub.execute_input": "2022-09-11T15:49:42.023979Z",
     "iopub.status.busy": "2022-09-11T15:49:42.022700Z",
     "iopub.status.idle": "2022-09-11T15:49:42.099572Z",
     "shell.execute_reply": "2022-09-11T15:49:42.098245Z"
    },
    "papermill": {
     "duration": 0.094351,
     "end_time": "2022-09-11T15:49:42.102732",
     "exception": false,
     "start_time": "2022-09-11T15:49:42.008381",
     "status": "completed"
    },
    "tags": []
   },
   "outputs": [],
   "source": [
    "#converting the range of the pixel data from 0-255 to 0-1\n",
    "X_train = X_train / 255.0\n",
    "\n",
    "X_test = X_test / 255.0"
   ]
  },
  {
   "cell_type": "markdown",
   "id": "fa0c7fd6",
   "metadata": {
    "papermill": {
     "duration": 0.013065,
     "end_time": "2022-09-11T15:49:42.128647",
     "exception": false,
     "start_time": "2022-09-11T15:49:42.115582",
     "status": "completed"
    },
    "tags": []
   },
   "source": [
    "### 3.3 Reshaping Our Images"
   ]
  },
  {
   "cell_type": "markdown",
   "id": "25c13463",
   "metadata": {
    "papermill": {
     "duration": 0.012508,
     "end_time": "2022-09-11T15:49:42.154331",
     "exception": false,
     "start_time": "2022-09-11T15:49:42.141823",
     "status": "completed"
    },
    "tags": []
   },
   "source": [
    "The images will need to be reshaped in order feed into our model. Our images will be 28x28 and, since we will be using grayscale, the color channel will be 1."
   ]
  },
  {
   "cell_type": "code",
   "execution_count": 40,
   "id": "e540bf15",
   "metadata": {
    "execution": {
     "iopub.execute_input": "2022-09-11T15:49:42.184582Z",
     "iopub.status.busy": "2022-09-11T15:49:42.183594Z",
     "iopub.status.idle": "2022-09-11T15:49:42.192660Z",
     "shell.execute_reply": "2022-09-11T15:49:42.190379Z"
    },
    "papermill": {
     "duration": 0.026555,
     "end_time": "2022-09-11T15:49:42.195333",
     "exception": false,
     "start_time": "2022-09-11T15:49:42.168778",
     "status": "completed"
    },
    "tags": []
   },
   "outputs": [
    {
     "name": "stdout",
     "output_type": "stream",
     "text": [
      "(27455, 28, 28, 1)\n",
      "(7172, 28, 28, 1)\n"
     ]
    }
   ],
   "source": [
    "X_train = X_train.values.reshape(-1,28,28,1)\n",
    "X_test = X_test.values.reshape(-1,28,28,1)\n",
    "print(X_train.shape)\n",
    "print(X_test.shape)"
   ]
  },
  {
   "cell_type": "markdown",
   "id": "13d5adba",
   "metadata": {
    "papermill": {
     "duration": 0.014273,
     "end_time": "2022-09-11T15:49:43.781855",
     "exception": false,
     "start_time": "2022-09-11T15:49:43.767582",
     "status": "completed"
    },
    "tags": []
   },
   "source": [
    "# 4. Viewing the Images"
   ]
  },
  {
   "cell_type": "markdown",
   "id": "a8f1825c",
   "metadata": {
    "papermill": {
     "duration": 0.015282,
     "end_time": "2022-09-11T15:49:43.812034",
     "exception": false,
     "start_time": "2022-09-11T15:49:43.796752",
     "status": "completed"
    },
    "tags": []
   },
   "source": [
    "### 4.1 Training Images"
   ]
  },
  {
   "cell_type": "code",
   "execution_count": 41,
   "id": "659005ab",
   "metadata": {
    "execution": {
     "iopub.execute_input": "2022-09-11T15:49:43.843568Z",
     "iopub.status.busy": "2022-09-11T15:49:43.843086Z",
     "iopub.status.idle": "2022-09-11T15:49:45.125301Z",
     "shell.execute_reply": "2022-09-11T15:49:45.124328Z"
    },
    "papermill": {
     "duration": 1.302274,
     "end_time": "2022-09-11T15:49:45.128943",
     "exception": false,
     "start_time": "2022-09-11T15:49:43.826669",
     "status": "completed"
    },
    "tags": []
   },
   "outputs": [
    {
     "data": {
      "image/png": "[encoded data removed]",
      "text/plain": [
       "<Figure size 1500x1000 with 25 Axes>"
      ]
     },
     "metadata": {},
     "output_type": "display_data"
    }
   ],
   "source": [
    "#creating a 5x5 grid of the first 25 photos in the training images\n",
    "fig, axes = plt.subplots(nrows=5, ncols=5, figsize=(15, 10),\n",
    "                        subplot_kw={'xticks': [], 'yticks': []})\n",
    "\n",
    "for i in range(25):\n",
    "    plt.subplot(5,5,i+1)\n",
    "    plt.imshow(X_train[i], cmap='gray')\n",
    "    plt.title(Y_train[i])\n",
    "plt.show()"
   ]
  },
  {
   "cell_type": "markdown",
   "id": "d79a4762",
   "metadata": {
    "papermill": {
     "duration": 0.015162,
     "end_time": "2022-09-11T15:49:45.160360",
     "exception": false,
     "start_time": "2022-09-11T15:49:45.145198",
     "status": "completed"
    },
    "tags": []
   },
   "source": [
    "### 4.2 Test Images"
   ]
  },
  {
   "cell_type": "code",
   "execution_count": 42,
   "id": "716d044e",
   "metadata": {
    "execution": {
     "iopub.execute_input": "2022-09-11T15:49:45.195079Z",
     "iopub.status.busy": "2022-09-11T15:49:45.194431Z",
     "iopub.status.idle": "2022-09-11T15:49:46.213979Z",
     "shell.execute_reply": "2022-09-11T15:49:46.212805Z"
    },
    "papermill": {
     "duration": 1.040451,
     "end_time": "2022-09-11T15:49:46.217325",
     "exception": false,
     "start_time": "2022-09-11T15:49:45.176874",
     "status": "completed"
    },
    "tags": []
   },
   "outputs": [
    {
     "data": {
      "image/png": "[encoded data removed]",
      "text/plain": [
       "<Figure size 1500x1000 with 25 Axes>"
      ]
     },
     "metadata": {},
     "output_type": "display_data"
    }
   ],
   "source": [
    "#creating a 5x5 grid of the first 25 photos in the test images\n",
    "fig, axes = plt.subplots(nrows=5, ncols=5, figsize=(15, 10),\n",
    "                        subplot_kw={'xticks': [], 'yticks': []})\n",
    "\n",
    "for i in range(25):\n",
    "    plt.subplot(5,5,i+1)\n",
    "    plt.imshow(X_test[i], cmap='gray')\n",
    "    plt.title(Y_test[i])\n",
    "plt.show()"
   ]
  },
  {
   "cell_type": "markdown",
   "id": "a30a2408",
   "metadata": {
    "papermill": {
     "duration": 0.016729,
     "end_time": "2022-09-11T15:49:46.251241",
     "exception": false,
     "start_time": "2022-09-11T15:49:46.234512",
     "status": "completed"
    },
    "tags": []
   },
   "source": [
    "# 5. CNN Model"
   ]
  },
  {
   "cell_type": "markdown",
   "id": "f4d6be08",
   "metadata": {
    "papermill": {
     "duration": 0.016073,
     "end_time": "2022-09-11T15:49:46.283808",
     "exception": false,
     "start_time": "2022-09-11T15:49:46.267735",
     "status": "completed"
    },
    "tags": []
   },
   "source": [
    "### 5.1 Spliting Our Training Data"
   ]
  },
  {
   "cell_type": "markdown",
   "id": "318195ca",
   "metadata": {
    "papermill": {
     "duration": 0.015909,
     "end_time": "2022-09-11T15:49:46.316385",
     "exception": false,
     "start_time": "2022-09-11T15:49:46.300476",
     "status": "completed"
    },
    "tags": []
   },
   "source": [
    "We will take the images in the Train set and we will split them into training and validation sets. While training the model, we will use the new train set to train the model and the validation set to validate the results.\n",
    "\n",
    "Once the model has been trained, we will take the pixel data from the test set and predict the labels for each test image. \n",
    "\n",
    "Then we will evaluate the model's performance by looking at a classification report."
   ]
  },
  {
   "cell_type": "code",
   "execution_count": 43,
   "id": "33c0e686",
   "metadata": {
    "execution": {
     "iopub.execute_input": "2022-09-11T15:49:46.352389Z",
     "iopub.status.busy": "2022-09-11T15:49:46.351850Z",
     "iopub.status.idle": "2022-09-11T15:49:46.788377Z",
     "shell.execute_reply": "2022-09-11T15:49:46.786987Z"
    },
    "papermill": {
     "duration": 0.45863,
     "end_time": "2022-09-11T15:49:46.791695",
     "exception": false,
     "start_time": "2022-09-11T15:49:46.333065",
     "status": "completed"
    },
    "tags": []
   },
   "outputs": [],
   "source": [
    "#spliting training images into the images we will use for training the model and validating the model\n",
    "X_train, X_val, Y_train, Y_val = train_test_split(X_train, Y_train, test_size = 0.3, random_state=7)"
   ]
  },
  {
   "cell_type": "code",
   "execution_count": 44,
   "id": "7899e29b",
   "metadata": {
    "execution": {
     "iopub.execute_input": "2022-09-11T15:49:46.827942Z",
     "iopub.status.busy": "2022-09-11T15:49:46.827470Z",
     "iopub.status.idle": "2022-09-11T15:49:46.835860Z",
     "shell.execute_reply": "2022-09-11T15:49:46.834057Z"
    },
    "papermill": {
     "duration": 0.030089,
     "end_time": "2022-09-11T15:49:46.838653",
     "exception": false,
     "start_time": "2022-09-11T15:49:46.808564",
     "status": "completed"
    },
    "tags": []
   },
   "outputs": [
    {
     "name": "stdout",
     "output_type": "stream",
     "text": [
      "(19218, 28, 28, 1)\n",
      "(19218,)\n",
      "(8237, 28, 28, 1)\n",
      "(8237,)\n",
      "(7172, 28, 28, 1)\n",
      "(7172,)\n"
     ]
    }
   ],
   "source": [
    "#showing the shapes of our train, validate, and test images\n",
    "print(X_train.shape)\n",
    "print(Y_train.shape)\n",
    "print(X_val.shape)\n",
    "print(Y_val.shape)\n",
    "print(X_test.shape)\n",
    "print(Y_test.shape)"
   ]
  },
  {
   "cell_type": "markdown",
   "id": "88bf3523",
   "metadata": {
    "papermill": {
     "duration": 0.015821,
     "end_time": "2022-09-11T15:49:46.870310",
     "exception": false,
     "start_time": "2022-09-11T15:49:46.854489",
     "status": "completed"
    },
    "tags": []
   },
   "source": [
    "### 5.2 Creating Our Model"
   ]
  },
  {
   "cell_type": "code",
   "execution_count": 45,
   "id": "073347b6",
   "metadata": {
    "execution": {
     "iopub.execute_input": "2022-09-11T15:49:46.906529Z",
     "iopub.status.busy": "2022-09-11T15:49:46.905990Z",
     "iopub.status.idle": "2022-09-11T15:49:47.032576Z",
     "shell.execute_reply": "2022-09-11T15:49:47.031224Z"
    },
    "papermill": {
     "duration": 0.148375,
     "end_time": "2022-09-11T15:49:47.035974",
     "exception": false,
     "start_time": "2022-09-11T15:49:46.887599",
     "status": "completed"
    },
    "tags": []
   },
   "outputs": [
    {
     "name": "stdout",
     "output_type": "stream",
     "text": [
      "WARNING:tensorflow:From c:\\Users\\marvi\\anaconda3\\envs\\ComputerVision\\lib\\site-packages\\keras\\src\\backend.py:873: The name tf.get_default_graph is deprecated. Please use tf.compat.v1.get_default_graph instead.\n",
      "\n",
      "WARNING:tensorflow:From c:\\Users\\marvi\\anaconda3\\envs\\ComputerVision\\lib\\site-packages\\keras\\src\\layers\\pooling\\max_pooling2d.py:161: The name tf.nn.max_pool is deprecated. Please use tf.nn.max_pool2d instead.\n",
      "\n"
     ]
    }
   ],
   "source": [
    "#creating our CNN model\n",
    "model = keras.Sequential([\n",
    "    \n",
    "    layers.BatchNormalization(),\n",
    "    layers.Conv2D(filters=32, kernel_size=(5,5), activation=\"relu\", padding='same',\n",
    "                  input_shape=[28, 28, 1]),\n",
    "    layers.MaxPool2D(),\n",
    "    layers.Dropout(.25),\n",
    "    \n",
    "    layers.BatchNormalization(),\n",
    "    layers.Conv2D(filters=32, kernel_size=(3,3), activation=\"relu\", padding='same'),\n",
    "    layers.MaxPool2D(),\n",
    "    layers.Dropout(.25),\n",
    "    \n",
    "    layers.BatchNormalization(),\n",
    "    layers.Conv2D(filters=64, kernel_size=(3,3), activation=\"relu\", padding='same'),\n",
    "    layers.MaxPool2D(),\n",
    "    layers.Dropout(.25),\n",
    "\n",
    "    layers.BatchNormalization(),\n",
    "    layers.Conv2D(filters=128, kernel_size=(3,3), activation=\"relu\", padding='same'),\n",
    "    layers.MaxPool2D(),\n",
    "    layers.Dropout(.25),\n",
    "    \n",
    "    layers.Flatten(),\n",
    "    layers.Dropout(.25),\n",
    "    layers.Dense(units=64, activation=\"relu\"),\n",
    "    layers.Dense(units=26, activation=\"softmax\"),\n",
    "])"
   ]
  },
  {
   "cell_type": "code",
   "execution_count": 46,
   "id": "d10e893d",
   "metadata": {
    "execution": {
     "iopub.execute_input": "2022-09-11T15:49:47.071544Z",
     "iopub.status.busy": "2022-09-11T15:49:47.071135Z",
     "iopub.status.idle": "2022-09-11T15:49:47.098836Z",
     "shell.execute_reply": "2022-09-11T15:49:47.097504Z"
    },
    "papermill": {
     "duration": 0.048422,
     "end_time": "2022-09-11T15:49:47.101845",
     "exception": false,
     "start_time": "2022-09-11T15:49:47.053423",
     "status": "completed"
    },
    "tags": []
   },
   "outputs": [],
   "source": [
    "#compiling the model\n",
    "model.compile(\n",
    "    optimizer=tf.keras.optimizers.Adam(epsilon=0.01),\n",
    "    loss='sparse_categorical_crossentropy',\n",
    "    metrics=['accuracy']\n",
    ")"
   ]
  },
  {
   "cell_type": "markdown",
   "id": "4e8e06aa",
   "metadata": {
    "papermill": {
     "duration": 0.015745,
     "end_time": "2022-09-11T15:49:47.133627",
     "exception": false,
     "start_time": "2022-09-11T15:49:47.117882",
     "status": "completed"
    },
    "tags": []
   },
   "source": [
    "### 5.3 Training Our Model"
   ]
  },
  {
   "cell_type": "code",
   "execution_count": 47,
   "id": "1c47dfaa",
   "metadata": {
    "execution": {
     "iopub.execute_input": "2022-09-11T15:49:47.167736Z",
     "iopub.status.busy": "2022-09-11T15:49:47.167235Z",
     "iopub.status.idle": "2022-09-11T16:01:10.687806Z",
     "shell.execute_reply": "2022-09-11T16:01:10.686322Z"
    },
    "papermill": {
     "duration": 683.541669,
     "end_time": "2022-09-11T16:01:10.691273",
     "exception": false,
     "start_time": "2022-09-11T15:49:47.149604",
     "status": "completed"
    },
    "tags": []
   },
   "outputs": [
    {
     "name": "stdout",
     "output_type": "stream",
     "text": [
      "Epoch 1/50\n",
      "WARNING:tensorflow:From c:\\Users\\marvi\\anaconda3\\envs\\ComputerVision\\lib\\site-packages\\keras\\src\\utils\\tf_utils.py:492: The name tf.ragged.RaggedTensorValue is deprecated. Please use tf.compat.v1.ragged.RaggedTensorValue instead.\n",
      "\n",
      "WARNING:tensorflow:From c:\\Users\\marvi\\anaconda3\\envs\\ComputerVision\\lib\\site-packages\\keras\\src\\engine\\base_layer_utils.py:384: The name tf.executing_eagerly_outside_functions is deprecated. Please use tf.compat.v1.executing_eagerly_outside_functions instead.\n",
      "\n",
      "151/151 - 14s - loss: 3.2447 - accuracy: 0.0747 - val_loss: 3.3043 - val_accuracy: 0.0481 - 14s/epoch - 93ms/step\n",
      "Epoch 2/50\n",
      "151/151 - 10s - loss: 2.6547 - accuracy: 0.1902 - val_loss: 3.1247 - val_accuracy: 0.0838 - 10s/epoch - 65ms/step\n",
      "Epoch 3/50\n",
      "151/151 - 10s - loss: 1.8356 - accuracy: 0.3861 - val_loss: 1.4666 - val_accuracy: 0.5671 - 10s/epoch - 66ms/step\n",
      "Epoch 4/50\n",
      "151/151 - 9s - loss: 1.2293 - accuracy: 0.5660 - val_loss: 0.7881 - val_accuracy: 0.7763 - 9s/epoch - 57ms/step\n",
      "Epoch 5/50\n",
      "151/151 - 9s - loss: 0.8648 - accuracy: 0.6920 - val_loss: 0.4403 - val_accuracy: 0.8847 - 9s/epoch - 57ms/step\n",
      "Epoch 6/50\n",
      "151/151 - 9s - loss: 0.6353 - accuracy: 0.7779 - val_loss: 0.2639 - val_accuracy: 0.9461 - 9s/epoch - 61ms/step\n",
      "Epoch 7/50\n",
      "151/151 - 9s - loss: 0.4935 - accuracy: 0.8258 - val_loss: 0.1824 - val_accuracy: 0.9595 - 9s/epoch - 57ms/step\n",
      "Epoch 8/50\n",
      "151/151 - 9s - loss: 0.3935 - accuracy: 0.8644 - val_loss: 0.1058 - val_accuracy: 0.9864 - 9s/epoch - 62ms/step\n",
      "Epoch 9/50\n",
      "151/151 - 9s - loss: 0.3262 - accuracy: 0.8890 - val_loss: 0.0777 - val_accuracy: 0.9853 - 9s/epoch - 62ms/step\n",
      "Epoch 10/50\n",
      "151/151 - 10s - loss: 0.2667 - accuracy: 0.9077 - val_loss: 0.0548 - val_accuracy: 0.9924 - 10s/epoch - 64ms/step\n",
      "Epoch 11/50\n",
      "151/151 - 9s - loss: 0.2195 - accuracy: 0.9248 - val_loss: 0.0330 - val_accuracy: 0.9967 - 9s/epoch - 57ms/step\n",
      "Epoch 12/50\n",
      "151/151 - 9s - loss: 0.1848 - accuracy: 0.9380 - val_loss: 0.0264 - val_accuracy: 0.9972 - 9s/epoch - 59ms/step\n",
      "Epoch 13/50\n",
      "151/151 - 9s - loss: 0.1531 - accuracy: 0.9516 - val_loss: 0.0134 - val_accuracy: 0.9990 - 9s/epoch - 57ms/step\n",
      "Epoch 14/50\n",
      "151/151 - 9s - loss: 0.1312 - accuracy: 0.9573 - val_loss: 0.0120 - val_accuracy: 0.9990 - 9s/epoch - 57ms/step\n",
      "Epoch 15/50\n",
      "151/151 - 8s - loss: 0.1162 - accuracy: 0.9622 - val_loss: 0.0071 - val_accuracy: 0.9993 - 8s/epoch - 55ms/step\n",
      "Epoch 16/50\n",
      "151/151 - 9s - loss: 0.1082 - accuracy: 0.9648 - val_loss: 0.0097 - val_accuracy: 0.9992 - 9s/epoch - 56ms/step\n",
      "Epoch 17/50\n",
      "151/151 - 9s - loss: 0.0984 - accuracy: 0.9679 - val_loss: 0.0045 - val_accuracy: 0.9999 - 9s/epoch - 58ms/step\n",
      "Epoch 18/50\n",
      "151/151 - 9s - loss: 0.0905 - accuracy: 0.9712 - val_loss: 0.0041 - val_accuracy: 1.0000 - 9s/epoch - 57ms/step\n",
      "Epoch 19/50\n",
      "151/151 - 9s - loss: 0.0802 - accuracy: 0.9743 - val_loss: 0.0028 - val_accuracy: 1.0000 - 9s/epoch - 57ms/step\n",
      "Epoch 20/50\n",
      "151/151 - 9s - loss: 0.0778 - accuracy: 0.9742 - val_loss: 0.0031 - val_accuracy: 0.9999 - 9s/epoch - 58ms/step\n",
      "Epoch 21/50\n",
      "151/151 - 9s - loss: 0.0618 - accuracy: 0.9810 - val_loss: 0.0017 - val_accuracy: 1.0000 - 9s/epoch - 58ms/step\n",
      "Epoch 22/50\n",
      "151/151 - 8s - loss: 0.0637 - accuracy: 0.9789 - val_loss: 0.0021 - val_accuracy: 0.9995 - 8s/epoch - 55ms/step\n",
      "Epoch 23/50\n",
      "151/151 - 8s - loss: 0.0644 - accuracy: 0.9788 - val_loss: 0.0015 - val_accuracy: 0.9999 - 8s/epoch - 55ms/step\n",
      "Epoch 24/50\n",
      "151/151 - 8s - loss: 0.0548 - accuracy: 0.9827 - val_loss: 0.0011 - val_accuracy: 0.9999 - 8s/epoch - 54ms/step\n",
      "Epoch 25/50\n",
      "151/151 - 9s - loss: 0.0473 - accuracy: 0.9862 - val_loss: 8.9268e-04 - val_accuracy: 0.9999 - 9s/epoch - 57ms/step\n",
      "Epoch 26/50\n",
      "151/151 - 8s - loss: 0.0481 - accuracy: 0.9851 - val_loss: 0.0011 - val_accuracy: 1.0000 - 8s/epoch - 55ms/step\n",
      "Epoch 27/50\n",
      "151/151 - 8s - loss: 0.0488 - accuracy: 0.9847 - val_loss: 7.1366e-04 - val_accuracy: 1.0000 - 8s/epoch - 54ms/step\n",
      "Epoch 28/50\n",
      "151/151 - 8s - loss: 0.0466 - accuracy: 0.9849 - val_loss: 6.2086e-04 - val_accuracy: 1.0000 - 8s/epoch - 54ms/step\n",
      "Epoch 29/50\n",
      "151/151 - 8s - loss: 0.0380 - accuracy: 0.9880 - val_loss: 6.4938e-04 - val_accuracy: 0.9999 - 8s/epoch - 55ms/step\n",
      "Epoch 30/50\n",
      "151/151 - 8s - loss: 0.0378 - accuracy: 0.9879 - val_loss: 7.2928e-04 - val_accuracy: 0.9999 - 8s/epoch - 55ms/step\n",
      "Epoch 31/50\n",
      "151/151 - 8s - loss: 0.0386 - accuracy: 0.9880 - val_loss: 5.2473e-04 - val_accuracy: 1.0000 - 8s/epoch - 55ms/step\n",
      "Epoch 32/50\n",
      "151/151 - 8s - loss: 0.0395 - accuracy: 0.9874 - val_loss: 7.1484e-04 - val_accuracy: 0.9998 - 8s/epoch - 55ms/step\n",
      "Epoch 33/50\n",
      "151/151 - 9s - loss: 0.0345 - accuracy: 0.9881 - val_loss: 3.7106e-04 - val_accuracy: 1.0000 - 9s/epoch - 57ms/step\n",
      "Epoch 34/50\n",
      "151/151 - 8s - loss: 0.0326 - accuracy: 0.9898 - val_loss: 4.4309e-04 - val_accuracy: 0.9999 - 8s/epoch - 55ms/step\n",
      "Epoch 35/50\n",
      "151/151 - 8s - loss: 0.0307 - accuracy: 0.9900 - val_loss: 4.5520e-04 - val_accuracy: 0.9999 - 8s/epoch - 55ms/step\n",
      "Epoch 36/50\n",
      "151/151 - 8s - loss: 0.0411 - accuracy: 0.9873 - val_loss: 3.7376e-04 - val_accuracy: 1.0000 - 8s/epoch - 54ms/step\n",
      "Epoch 37/50\n",
      "151/151 - 8s - loss: 0.0296 - accuracy: 0.9917 - val_loss: 2.7508e-04 - val_accuracy: 1.0000 - 8s/epoch - 56ms/step\n",
      "Epoch 38/50\n",
      "151/151 - 9s - loss: 0.0303 - accuracy: 0.9909 - val_loss: 1.9101e-04 - val_accuracy: 1.0000 - 9s/epoch - 58ms/step\n",
      "Epoch 39/50\n",
      "151/151 - 10s - loss: 0.0260 - accuracy: 0.9918 - val_loss: 2.9665e-04 - val_accuracy: 1.0000 - 10s/epoch - 66ms/step\n",
      "Epoch 40/50\n",
      "151/151 - 10s - loss: 0.0273 - accuracy: 0.9912 - val_loss: 2.7220e-04 - val_accuracy: 1.0000 - 10s/epoch - 69ms/step\n",
      "Epoch 41/50\n",
      "151/151 - 12s - loss: 0.0291 - accuracy: 0.9916 - val_loss: 1.1852e-04 - val_accuracy: 1.0000 - 12s/epoch - 79ms/step\n",
      "Epoch 42/50\n",
      "151/151 - 11s - loss: 0.0245 - accuracy: 0.9922 - val_loss: 4.3006e-04 - val_accuracy: 0.9999 - 11s/epoch - 74ms/step\n",
      "Epoch 43/50\n",
      "151/151 - 12s - loss: 0.0250 - accuracy: 0.9926 - val_loss: 1.0983e-04 - val_accuracy: 1.0000 - 12s/epoch - 77ms/step\n",
      "Epoch 44/50\n",
      "151/151 - 11s - loss: 0.0225 - accuracy: 0.9934 - val_loss: 1.3083e-04 - val_accuracy: 1.0000 - 11s/epoch - 74ms/step\n",
      "Epoch 45/50\n",
      "151/151 - 11s - loss: 0.0260 - accuracy: 0.9925 - val_loss: 1.9154e-04 - val_accuracy: 1.0000 - 11s/epoch - 75ms/step\n",
      "Epoch 46/50\n",
      "151/151 - 12s - loss: 0.0273 - accuracy: 0.9917 - val_loss: 1.2242e-04 - val_accuracy: 1.0000 - 12s/epoch - 81ms/step\n",
      "Epoch 47/50\n",
      "151/151 - 12s - loss: 0.0243 - accuracy: 0.9925 - val_loss: 1.7896e-04 - val_accuracy: 1.0000 - 12s/epoch - 81ms/step\n",
      "Epoch 48/50\n",
      "151/151 - 12s - loss: 0.0215 - accuracy: 0.9932 - val_loss: 1.1628e-04 - val_accuracy: 1.0000 - 12s/epoch - 81ms/step\n",
      "Epoch 49/50\n",
      "151/151 - 12s - loss: 0.0237 - accuracy: 0.9928 - val_loss: 9.9715e-05 - val_accuracy: 1.0000 - 12s/epoch - 80ms/step\n",
      "Epoch 50/50\n",
      "151/151 - 12s - loss: 0.0252 - accuracy: 0.9912 - val_loss: 9.9659e-05 - val_accuracy: 1.0000 - 12s/epoch - 78ms/step\n"
     ]
    }
   ],
   "source": [
    "#Training the model\n",
    "history = model.fit(\n",
    "    x = X_train,\n",
    "    y = Y_train,\n",
    "    validation_data= (X_val,Y_val),\n",
    "    batch_size = 128,\n",
    "    epochs=50,\n",
    "    verbose=2,\n",
    ")"
   ]
  },
  {
   "cell_type": "code",
   "execution_count": 48,
   "id": "59dc22bf",
   "metadata": {
    "execution": {
     "iopub.execute_input": "2022-09-11T16:01:10.743482Z",
     "iopub.status.busy": "2022-09-11T16:01:10.742582Z",
     "iopub.status.idle": "2022-09-11T16:01:11.160049Z",
     "shell.execute_reply": "2022-09-11T16:01:11.158972Z"
    },
    "papermill": {
     "duration": 0.446506,
     "end_time": "2022-09-11T16:01:11.162708",
     "exception": false,
     "start_time": "2022-09-11T16:01:10.716202",
     "status": "completed"
    },
    "tags": []
   },
   "outputs": [
    {
     "data": {
      "image/png": "[encoded data removed]",
      "text/plain": [
       "<Figure size 640x480 with 1 Axes>"
      ]
     },
     "metadata": {},
     "output_type": "display_data"
    },
    {
     "data": {
      "image/png": "[encoded data removed]",
      "text/plain": [
       "<Figure size 640x480 with 1 Axes>"
      ]
     },
     "metadata": {},
     "output_type": "display_data"
    }
   ],
   "source": [
    "#Viewing the training results\n",
    "history_frame = pd.DataFrame(history.history)\n",
    "history_frame.loc[:, ['loss', 'val_loss']].plot()\n",
    "history_frame.loc[:, ['accuracy', 'val_accuracy']].plot();"
   ]
  },
  {
   "cell_type": "markdown",
   "id": "217a1946",
   "metadata": {
    "papermill": {
     "duration": 0.023269,
     "end_time": "2022-09-11T16:01:11.210499",
     "exception": false,
     "start_time": "2022-09-11T16:01:11.187230",
     "status": "completed"
    },
    "tags": []
   },
   "source": [
    "# 6. Results"
   ]
  },
  {
   "cell_type": "markdown",
   "id": "23cdbd4c",
   "metadata": {
    "papermill": {
     "duration": 0.024026,
     "end_time": "2022-09-11T16:01:11.258745",
     "exception": false,
     "start_time": "2022-09-11T16:01:11.234719",
     "status": "completed"
    },
    "tags": []
   },
   "source": [
    "### 6.1 Classification Report"
   ]
  },
  {
   "cell_type": "code",
   "execution_count": 49,
   "id": "df735eea",
   "metadata": {
    "execution": {
     "iopub.execute_input": "2022-09-11T16:01:11.308586Z",
     "iopub.status.busy": "2022-09-11T16:01:11.307286Z",
     "iopub.status.idle": "2022-09-11T16:01:13.507920Z",
     "shell.execute_reply": "2022-09-11T16:01:13.505134Z"
    },
    "papermill": {
     "duration": 2.229396,
     "end_time": "2022-09-11T16:01:13.511517",
     "exception": false,
     "start_time": "2022-09-11T16:01:11.282121",
     "status": "completed"
    },
    "tags": []
   },
   "outputs": [
    {
     "name": "stdout",
     "output_type": "stream",
     "text": [
      "225/225 [==============================] - 2s 7ms/step\n",
      "              precision    recall  f1-score   support\n",
      "\n",
      "           0       1.00      1.00      1.00       331\n",
      "           1       1.00      1.00      1.00       432\n",
      "           2       1.00      1.00      1.00       310\n",
      "           3       1.00      1.00      1.00       245\n",
      "           4       1.00      1.00      1.00       498\n",
      "           5       1.00      1.00      1.00       247\n",
      "           6       0.95      0.95      0.95       348\n",
      "           7       1.00      0.96      0.98       436\n",
      "           8       1.00      1.00      1.00       288\n",
      "          10       1.00      1.00      1.00       331\n",
      "          11       1.00      1.00      1.00       209\n",
      "          12       1.00      1.00      1.00       394\n",
      "          13       1.00      1.00      1.00       291\n",
      "          14       1.00      1.00      1.00       246\n",
      "          15       1.00      1.00      1.00       347\n",
      "          16       1.00      1.00      1.00       164\n",
      "          17       0.99      1.00      1.00       144\n",
      "          18       1.00      1.00      1.00       246\n",
      "          19       0.92      0.93      0.92       248\n",
      "          20       1.00      1.00      1.00       266\n",
      "          21       0.91      1.00      0.95       346\n",
      "          22       1.00      1.00      1.00       206\n",
      "          23       0.94      1.00      0.97       267\n",
      "          24       1.00      0.89      0.94       332\n",
      "\n",
      "    accuracy                           0.99      7172\n",
      "   macro avg       0.99      0.99      0.99      7172\n",
      "weighted avg       0.99      0.99      0.99      7172\n",
      "\n"
     ]
    }
   ],
   "source": [
    "#creating our predictions using the test pixel values\n",
    "predictions = model.predict(X_test)\n",
    "predictions = np.argmax(predictions,axis = 1)\n",
    "\n",
    "#creating a report that show how our predictions compare with actual values\n",
    "print(classification_report(Y_test, predictions))"
   ]
  },
  {
   "cell_type": "markdown",
   "id": "d3c80815",
   "metadata": {
    "papermill": {
     "duration": 0.023494,
     "end_time": "2022-09-11T16:01:13.559639",
     "exception": false,
     "start_time": "2022-09-11T16:01:13.536145",
     "status": "completed"
    },
    "tags": []
   },
   "source": [
    "### 6.2 Brief Thoughts on Results"
   ]
  },
  {
   "cell_type": "markdown",
   "id": "37568aae",
   "metadata": {
    "papermill": {
     "duration": 0.024966,
     "end_time": "2022-09-11T16:01:13.608355",
     "exception": false,
     "start_time": "2022-09-11T16:01:13.583389",
     "status": "completed"
    },
    "tags": []
   },
   "source": [
    "We were able to get an accuracy of 100% according to the classification report. \n",
    "The biggest take away for me was that the BatchNormalization and Dropout layers really helped with increasing the accuracy. The Dropout layers seemed to really smooth out the training results as well."
   ]
  },
  {
   "cell_type": "markdown",
   "id": "3e472bf5",
   "metadata": {
    "papermill": {
     "duration": 0.023534,
     "end_time": "2022-09-11T16:01:13.656757",
     "exception": false,
     "start_time": "2022-09-11T16:01:13.633223",
     "status": "completed"
    },
    "tags": []
   },
   "source": [
    "# 7. Conclusion"
   ]
  },
  {
   "cell_type": "markdown",
   "id": "6a46db4f",
   "metadata": {
    "papermill": {
     "duration": 0.023191,
     "end_time": "2022-09-11T16:01:13.703706",
     "exception": false,
     "start_time": "2022-09-11T16:01:13.680515",
     "status": "completed"
    },
    "tags": []
   },
   "source": [
    "### 7.1 Recap"
   ]
  },
  {
   "cell_type": "markdown",
   "id": "efd0b117",
   "metadata": {
    "papermill": {
     "duration": 0.023531,
     "end_time": "2022-09-11T16:01:13.750842",
     "exception": false,
     "start_time": "2022-09-11T16:01:13.727311",
     "status": "completed"
    },
    "tags": []
   },
   "source": [
    "We were able to take images of the American Sign Lanuage alphabet and use a CNN model to learn the alphabet and make predictions on new images. When training our CNN model, the training results were 99% accuracy but the validation results had an accuracy of 100%. When applying the CNN model on our test images we got the result of 100% accuracy."
   ]
  },
  {
   "cell_type": "markdown",
   "id": "4ceb3feb",
   "metadata": {
    "papermill": {
     "duration": 0.023287,
     "end_time": "2022-09-11T16:01:13.797546",
     "exception": false,
     "start_time": "2022-09-11T16:01:13.774259",
     "status": "completed"
    },
    "tags": []
   },
   "source": [
    "### 7.2 Future Work"
   ]
  },
  {
   "cell_type": "markdown",
   "id": "40bbea4e",
   "metadata": {
    "papermill": {
     "duration": 0.025082,
     "end_time": "2022-09-11T16:01:13.846320",
     "exception": false,
     "start_time": "2022-09-11T16:01:13.821238",
     "status": "completed"
    },
    "tags": []
   },
   "source": [
    "The next step would be to apply this model to live video feed to detect the American Sign Language alphabet within the video and translate each sign on the screen in real time."
   ]
  },
  {
   "cell_type": "code",
   "execution_count": 50,
   "metadata": {},
   "outputs": [
    {
     "name": "stderr",
     "output_type": "stream",
     "text": [
      "c:\\Users\\marvi\\anaconda3\\envs\\ComputerVision\\lib\\site-packages\\keras\\src\\engine\\training.py:3103: UserWarning:\n",
      "\n",
      "You are saving your model as an HDF5 file via `model.save()`. This file format is considered legacy. We recommend using instead the native Keras format, e.g. `model.save('my_model.keras')`.\n",
      "\n"
     ]
    }
   ],
   "source": [
    "# Save the model\n",
    "model.save('D:\\Developer\\SignLanguageComputerVision\\model\\CNN.h5')"
   ]
  }
 ],
 "metadata": {
  "kernelspec": {
   "display_name": "Python 3",
   "language": "python",
   "name": "python3"
  },
  "language_info": {
   "codemirror_mode": {
    "name": "ipython",
    "version": 3
   },
   "file_extension": ".py",
   "mimetype": "text/x-python",
   "name": "python",
   "nbconvert_exporter": "python",
   "pygments_lexer": "ipython3",
   "version": "3.9.18"
  },
  "papermill": {
   "default_parameters": {},
   "duration": 720.534898,
   "end_time": "2022-09-11T16:01:16.845747",
   "environment_variables": {},
   "exception": null,
   "input_path": "__notebook__.ipynb",
   "output_path": "__notebook__.ipynb",
   "parameters": {},
   "start_time": "2022-09-11T15:49:16.310849",
   "version": "2.3.4"
  }
 },
 "nbformat": 4,
 "nbformat_minor": 5
}
